{
 "cells": [
  {
   "cell_type": "markdown",
   "metadata": {},
   "source": [
    "# Machine Learning Project Checklist\n",
    "-------------------------------------------------------------"
   ]
  },
  {
   "cell_type": "markdown",
   "metadata": {},
   "source": [
    "## Main Steps in ML:\n",
    "------------------------------------------\n",
    "\n",
    "1. Look at the big picture\n",
    "2. Get the data\n",
    "3. Explore the data to gain insights\n",
    "4. Prepare data for ML algorithms\n",
    "5. Select a model and train it\n",
    "6. Fine tune the model\n",
    "7. Present the solution\n",
    "8. Launch, monitor, and maintain the system"
   ]
  },
  {
   "cell_type": "markdown",
   "metadata": {},
   "source": [
    "## Step 1: The big Picture\n",
    "-------------------------------------\n",
    "\n",
    "1. Define objective in business terms\n",
    "2. How will your solution be used?\n",
    "3. What are the current solutions, if any?\n",
    "4. How the problem should be framed ( supervised, unsupervised, etc)\n",
    "5. How should performance be measured?\n",
    "6. Is the performance measure aligned with the business objectives?\n",
    "7. What is the minimum performance needed to reach business objectives?\n",
    "8. What are comparable problems? Can you reuse experience or tools?\n",
    "9. Is human expertise available?\n",
    "10. How would you solve the problem manually?\n",
    "11. List assumptions made so far ( you or others)\n",
    "12. Verify assumptions if possible"
   ]
  },
  {
   "cell_type": "markdown",
   "metadata": {},
   "source": [
    "## Step 3: Explore the data\n",
    "---------------------------------------\n",
    "\n",
    "1. Create copy of the data for exploration (sampling it down to a manageable size if necessary)\n",
    "2. Create a Jupyter Notebook to keep a record of your data exploration\n",
    "3. Study each Attribute and its characteristics:\n",
    "    * Name\n",
    "    * Type ( Categorical, int/float, bounded/unbounded, text, structure,etc.\n",
    "    * % of missing values\n",
    "    * Noisiness and type of noise (stochastic, outliers, rounding errors,etc.)\n",
    "    * Possibly useful for the task?\n",
    "    * Type of distribution (Gaussian, uniform, logarithmic,etc.)\n",
    "4. For supervised learning task, identify the target attribute(s)\n",
    "5. Visualize the data\n",
    "6. Study the correlation between attributes\n",
    "7. Study how you would solve the problem manually\n",
    "8. Identify the promising transformations you may want to apply\n",
    "9. Identify extra data that would be useful\n",
    "10. Document what you have learned"
   ]
  },
  {
   "cell_type": "markdown",
   "metadata": {},
   "source": [
    "## Step 4: Prepare the Data\n",
    "----------------------------------------\n",
    "\n",
    "* Work on copies of the data (keep original dataset intact)\n",
    "* Write functions for all data transformations you apply, reasons:\n",
    "    - So you can easily prepare data the next time you get a fresh dataset\n",
    "    - So you can apply these transformations to future projects\n",
    "    - To clean and prepare the test set\n",
    "    - To clean and prepare new data instances once your solution is live\n",
    "    - To make it easy to treat your preparation choices as hyperparameters\n",
    "\n",
    "1. Data Cleaning:\n",
    "    * Fix or remove outliers (optional)\n",
    "    * Fill missing values(with 0s, median, mean, etc) or drop rows or columns\n",
    "    \n",
    "Check [Imputer](Imputer.ipynb)\n",
    "2. Feature selection (optional):\n",
    "    * Drop the attributes that provide no useful information about the task\n",
    "3. Feature engineering, where appropiate:\n",
    "    * Discretize continuous features\n",
    "    * Decompose features (e.g., categorical, date/time,etc)\n",
    "    * Add promising transformations of features (e.g., Log(x), Sqrt(x),etc.)\n",
    "    * Aggregate features into promising new features\n",
    "4. Feature scaling: standardize or normalize features\n",
    "\n",
    "Check [Web Data](Web Data.ipynb)\n",
    "\n",
    "Check [Creating categorical fields](Creating categorical fields.ipynb)"
   ]
  },
  {
   "cell_type": "markdown",
   "metadata": {},
   "source": [
    "## Getting a feel about the data\n",
    "--------------------------------------------\n",
    "\n",
    "It is useful to start by looking at the following:\n",
    "\n",
    "1. df.info() : Useful to see data structure (# of values, type, nulls, etc)\n",
    "2. df['column'].value_counts() : Useful for categorical values to define categories and count for each of them\n",
    "3. df.describe() : It provides basic stats about each feature\n",
    "4. df.hist() : Good way to look the shape of each feature\n",
    "\n",
    "Check [Getting a feel about the data](Getting a feel about the data.ipynb)\n",
    "\n",
    "5. Looking for linear correlations\n",
    "\n",
    "Check [Linear Correlations](Linear correlations.ipynb)\n",
    "\n",
    "Check [Visualizing data Matplotlib](Visualizing data Matplotlib.ipynb)\n",
    "\n",
    "Check [More visualizations in Matplotlib](03_Visualization.ipynb)"
   ]
  },
  {
   "cell_type": "markdown",
   "metadata": {},
   "source": [
    "## Create a test set\n",
    "-----------------------------\n",
    "\n",
    "It is important to separate the train a test data from the beginning and to avoid to give any bias to the methodology by snooping on the data before hand.\n",
    "\n",
    "\n",
    "1. [Store Analysise](Stores Analysis.ipynb)"
   ]
  },
  {
   "cell_type": "code",
   "execution_count": null,
   "metadata": {
    "collapsed": true
   },
   "outputs": [],
   "source": []
  }
 ],
 "metadata": {
  "kernelspec": {
   "display_name": "Python 3",
   "language": "python",
   "name": "python3"
  },
  "language_info": {
   "codemirror_mode": {
    "name": "ipython",
    "version": 3
   },
   "file_extension": ".py",
   "mimetype": "text/x-python",
   "name": "python",
   "nbconvert_exporter": "python",
   "pygments_lexer": "ipython3",
   "version": "3.6.4"
  }
 },
 "nbformat": 4,
 "nbformat_minor": 2
}
