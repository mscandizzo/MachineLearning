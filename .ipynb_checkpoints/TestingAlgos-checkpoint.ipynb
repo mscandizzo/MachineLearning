{
 "cells": [
  {
   "cell_type": "code",
   "execution_count": 1,
   "metadata": {
    "collapsed": true
   },
   "outputs": [],
   "source": [
    "import numpy as np\n",
    "import pandas as pd\n",
    "import matplotlib.pyplot as plt\n",
    "% matplotlib inline"
   ]
  },
  {
   "cell_type": "code",
   "execution_count": 2,
   "metadata": {
    "collapsed": true
   },
   "outputs": [],
   "source": [
    "data = pd.read_excel(\"C:/Users/maria/OneDrive - Scandizzo & Partner, LLC/Education/Python/Machine Learning/MyFiles/data1.xlsx\")"
   ]
  },
  {
   "cell_type": "code",
   "execution_count": 3,
   "metadata": {},
   "outputs": [
    {
     "data": {
      "text/html": [
       "<div>\n",
       "<style>\n",
       "    .dataframe thead tr:only-child th {\n",
       "        text-align: right;\n",
       "    }\n",
       "\n",
       "    .dataframe thead th {\n",
       "        text-align: left;\n",
       "    }\n",
       "\n",
       "    .dataframe tbody tr th {\n",
       "        vertical-align: top;\n",
       "    }\n",
       "</style>\n",
       "<table border=\"1\" class=\"dataframe\">\n",
       "  <thead>\n",
       "    <tr style=\"text-align: right;\">\n",
       "      <th></th>\n",
       "      <th>x1</th>\n",
       "      <th>x2</th>\n",
       "      <th>y</th>\n",
       "    </tr>\n",
       "  </thead>\n",
       "  <tbody>\n",
       "    <tr>\n",
       "      <th>0</th>\n",
       "      <td>0.336494</td>\n",
       "      <td>-0.985951</td>\n",
       "      <td>0</td>\n",
       "    </tr>\n",
       "    <tr>\n",
       "      <th>1</th>\n",
       "      <td>-0.011043</td>\n",
       "      <td>-0.105529</td>\n",
       "      <td>1</td>\n",
       "    </tr>\n",
       "    <tr>\n",
       "      <th>2</th>\n",
       "      <td>0.238160</td>\n",
       "      <td>-0.617417</td>\n",
       "      <td>1</td>\n",
       "    </tr>\n",
       "    <tr>\n",
       "      <th>3</th>\n",
       "      <td>-0.366783</td>\n",
       "      <td>-0.713819</td>\n",
       "      <td>1</td>\n",
       "    </tr>\n",
       "    <tr>\n",
       "      <th>4</th>\n",
       "      <td>1.221923</td>\n",
       "      <td>-1.039399</td>\n",
       "      <td>0</td>\n",
       "    </tr>\n",
       "  </tbody>\n",
       "</table>\n",
       "</div>"
      ],
      "text/plain": [
       "         x1        x2  y\n",
       "0  0.336494 -0.985951  0\n",
       "1 -0.011043 -0.105529  1\n",
       "2  0.238160 -0.617417  1\n",
       "3 -0.366783 -0.713819  1\n",
       "4  1.221923 -1.039399  0"
      ]
     },
     "execution_count": 3,
     "metadata": {},
     "output_type": "execute_result"
    }
   ],
   "source": [
    "data.head()"
   ]
  },
  {
   "cell_type": "code",
   "execution_count": 4,
   "metadata": {
    "collapsed": true
   },
   "outputs": [],
   "source": [
    "X = np.array(data[['x1','x2']])\n",
    "y = np.array(data['y'])"
   ]
  },
  {
   "cell_type": "code",
   "execution_count": 5,
   "metadata": {},
   "outputs": [
    {
     "data": {
      "image/png": "[encoded data removed]",
      "text/plain": [
       "<matplotlib.figure.Figure at 0x21cfe6c9c50>"
      ]
     },
     "metadata": {},
     "output_type": "display_data"
    }
   ],
   "source": [
    "data[['x1','x2']].plot(kind='hist',bins = 50, subplots=True);"
   ]
  },
  {
   "cell_type": "code",
   "execution_count": 6,
   "metadata": {
    "collapsed": true
   },
   "outputs": [],
   "source": [
    "from sklearn.linear_model import LogisticRegression\n",
    "from sklearn.ensemble import GradientBoostingClassifier\n",
    "from sklearn.svm import SVC"
   ]
  },
  {
   "cell_type": "code",
   "execution_count": 7,
   "metadata": {},
   "outputs": [],
   "source": [
    "from sklearn.model_selection import train_test_split"
   ]
  },
  {
   "cell_type": "code",
   "execution_count": 8,
   "metadata": {},
   "outputs": [],
   "source": [
    "from sklearn.metrics import accuracy_score"
   ]
  },
  {
   "cell_type": "code",
   "execution_count": 9,
   "metadata": {
    "collapsed": true
   },
   "outputs": [],
   "source": [
    "X_train, X_test, y_train, y_test = train_test_split(X, y, test_size = 0.2)"
   ]
  },
  {
   "cell_type": "code",
   "execution_count": 10,
   "metadata": {
    "collapsed": true
   },
   "outputs": [],
   "source": [
    "LogRegClassifier = LogisticRegression()\n",
    "GBCClassifier = GradientBoostingClassifier()\n",
    "SVCClassifier = SVC()"
   ]
  },
  {
   "cell_type": "code",
   "execution_count": 11,
   "metadata": {
    "collapsed": true
   },
   "outputs": [],
   "source": [
    "classifiers = [LogRegClassifier, GBCClassifier, SVCClassifier]"
   ]
  },
  {
   "cell_type": "code",
   "execution_count": 16,
   "metadata": {},
   "outputs": [],
   "source": [
    "def models(X_train, y_train, X_test):\n",
    "    results = {}\n",
    "    for classi in classifiers:\n",
    "        classi.fit(X_train,y_train)\n",
    "        resultado = classi.predict(X_test)\n",
    "        results['prediction_{0}'.format(classi)] = resultado\n",
    "        results['Accuracy_{0}'.format(classi)] = accuracy_score(y_test,resultado)\n",
    "    LogReg = results[\"Accuracy_LogisticRegression(C=1.0, class_weight=None, dual=False, fit_intercept=True,\\n          intercept_scaling=1, max_iter=100, multi_class='ovr', n_jobs=1,\\n          penalty='l2', random_state=None, solver='liblinear', tol=0.0001,\\n          verbose=0, warm_start=False)\"]\n",
    "    GBC =    results[\"Accuracy_GradientBoostingClassifier(criterion='friedman_mse', init=None,\\n              learning_rate=0.1, loss='deviance', max_depth=3,\\n              max_features=None, max_leaf_nodes=None,\\n              min_impurity_decrease=0.0, min_impurity_split=None,\\n              min_samples_leaf=1, min_samples_split=2,\\n              min_weight_fraction_leaf=0.0, n_estimators=100,\\n              presort='auto', random_state=None, subsample=1.0, verbose=0,\\n              warm_start=False)\"]\n",
    "    SVC =    results[\"Accuracy_SVC(C=1.0, cache_size=200, class_weight=None, coef0=0.0,\\n  decision_function_shape='ovr', degree=3, gamma='auto', kernel='rbf',\\n  max_iter=-1, probability=False, random_state=None, shrinking=True,\\n  tol=0.001, verbose=False)\"]\n",
    "    PredicLogReg = results[\"prediction_LogisticRegression(C=1.0, class_weight=None, dual=False, fit_intercept=True,\\n          intercept_scaling=1, max_iter=100, multi_class='ovr', n_jobs=1,\\n          penalty='l2', random_state=None, solver='liblinear', tol=0.0001,\\n          verbose=0, warm_start=False)\"]\n",
    "    PredicGBC =    results[\"prediction_GradientBoostingClassifier(criterion='friedman_mse', init=None,\\n              learning_rate=0.1, loss='deviance', max_depth=3,\\n              max_features=None, max_leaf_nodes=None,\\n              min_impurity_decrease=0.0, min_impurity_split=None,\\n              min_samples_leaf=1, min_samples_split=2,\\n              min_weight_fraction_leaf=0.0, n_estimators=100,\\n              presort='auto', random_state=None, subsample=1.0, verbose=0,\\n              warm_start=False)\"]\n",
    "    PredicSVC =    results[\"prediction_SVC(C=1.0, cache_size=200, class_weight=None, coef0=0.0,\\n  decision_function_shape='ovr', degree=3, gamma='auto', kernel='rbf',\\n  max_iter=-1, probability=False, random_state=None, shrinking=True,\\n  tol=0.001, verbose=False)\"]\n",
    "   \n",
    "    return (LogReg, GBC, SVC , PredicLogReg, PredicGBC, PredicSVC)"
   ]
  },
  {
   "cell_type": "code",
   "execution_count": 17,
   "metadata": {},
   "outputs": [],
   "source": [
    "LogReg, GBC, SVC , PredicLogReg, PredicGBC, PredicSVC = models(X_train = X_train, y_train = y_train, X_test = X_test) "
   ]
  },
  {
   "cell_type": "code",
   "execution_count": 28,
   "metadata": {},
   "outputs": [
    {
     "name": "stdout",
     "output_type": "stream",
     "text": [
      "0.2\n",
      "0.9\n",
      "0.95\n",
      "[1 1 0 0 0 0 0 1 0 0 0 0 0 1 0 0 0 0 0 1]\n",
      "[0 1 1 0 0 0 1 1 1 1 1 1 1 0 1 1 1 1 0 0]\n",
      "[0 0 1 0 0 0 1 1 1 1 1 1 1 0 1 1 1 1 0 0]\n"
     ]
    }
   ],
   "source": [
    "print(LogReg)\n",
    "print(GBC)\n",
    "print(SVC)\n",
    "print(PredicLogReg)\n",
    "print(PredicGBC)\n",
    "print(PredicSVC)"
   ]
  },
  {
   "cell_type": "code",
   "execution_count": 19,
   "metadata": {
    "collapsed": true
   },
   "outputs": [],
   "source": [
    "from sklearn.preprocessing import StandardScaler"
   ]
  },
  {
   "cell_type": "code",
   "execution_count": 20,
   "metadata": {
    "collapsed": true
   },
   "outputs": [],
   "source": [
    "scaler = StandardScaler()"
   ]
  },
  {
   "cell_type": "code",
   "execution_count": 24,
   "metadata": {},
   "outputs": [],
   "source": [
    "betterX_train = scaler.fit_transform(X_train)"
   ]
  },
  {
   "cell_type": "code",
   "execution_count": 25,
   "metadata": {},
   "outputs": [
    {
     "data": {
      "text/plain": [
       "(80, 2)"
      ]
     },
     "execution_count": 25,
     "metadata": {},
     "output_type": "execute_result"
    }
   ],
   "source": [
    "betterX_train.shape"
   ]
  },
  {
   "cell_type": "code",
   "execution_count": 26,
   "metadata": {},
   "outputs": [
    {
     "data": {
      "image/png": "[encoded data removed]",
      "text/plain": [
       "<matplotlib.figure.Figure at 0x21cffc51438>"
      ]
     },
     "metadata": {},
     "output_type": "display_data"
    }
   ],
   "source": [
    "plt.hist(betterX_train);"
   ]
  },
  {
   "cell_type": "code",
   "execution_count": 27,
   "metadata": {
    "collapsed": true
   },
   "outputs": [],
   "source": [
    "betterX_test = scaler.transform(X_test)"
   ]
  },
  {
   "cell_type": "code",
   "execution_count": 29,
   "metadata": {
    "collapsed": true
   },
   "outputs": [],
   "source": [
    "LogReg, GBC, SVC , PredicLogReg, PredicGBC, PredicSVC = models(X_train=betterX_train,y_train=y_train,X_test=betterX_test)"
   ]
  },
  {
   "cell_type": "code",
   "execution_count": 30,
   "metadata": {},
   "outputs": [
    {
     "name": "stdout",
     "output_type": "stream",
     "text": [
      "0.2\n",
      "0.9\n",
      "1.0\n",
      "[1 1 0 0 0 0 0 1 0 0 0 0 0 1 0 0 0 0 0 1]\n",
      "[0 1 1 0 0 0 1 1 1 1 1 1 1 0 1 1 1 1 0 0]\n",
      "[0 0 1 0 1 0 1 1 1 1 1 1 1 0 1 1 1 1 0 0]\n"
     ]
    }
   ],
   "source": [
    "print(LogReg)\n",
    "print(GBC)\n",
    "print(SVC)\n",
    "print(PredicLogReg)\n",
    "print(PredicGBC)\n",
    "print(PredicSVC)"
   ]
  },
  {
   "cell_type": "code",
   "execution_count": null,
   "metadata": {
    "collapsed": true
   },
   "outputs": [],
   "source": []
  }
 ],
 "metadata": {
  "kernelspec": {
   "display_name": "Python 3",
   "language": "python",
   "name": "python3"
  },
  "language_info": {
   "codemirror_mode": {
    "name": "ipython",
    "version": 3
   },
   "file_extension": ".py",
   "mimetype": "text/x-python",
   "name": "python",
   "nbconvert_exporter": "python",
   "pygments_lexer": "ipython3",
   "version": "3.6.2"
  }
 },
 "nbformat": 4,
 "nbformat_minor": 2
}
